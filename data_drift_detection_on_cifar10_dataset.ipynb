{
  "nbformat": 4,
  "nbformat_minor": 0,
  "metadata": {
    "colab": {
      "name": "data-drift-detection-on-cifar10-dataset.ipynb",
      "provenance": [],
      "authorship_tag": "ABX9TyObjZ8j5/gixzo+VY9d/Ijf",
      "include_colab_link": true
    },
    "kernelspec": {
      "name": "python3",
      "display_name": "Python 3"
    },
    "language_info": {
      "name": "python"
    },
    "accelerator": "GPU"
  },
  "cells": [
    {
      "cell_type": "markdown",
      "metadata": {
        "id": "view-in-github",
        "colab_type": "text"
      },
      "source": [
        "<a href=\"https://colab.research.google.com/github/menon92/DL-Sneak-Peek/blob/master/data_drift_detection_on_cifar10_dataset.ipynb\" target=\"_parent\"><img src=\"https://colab.research.google.com/assets/colab-badge.svg\" alt=\"Open In Colab\"/></a>"
      ]
    },
    {
      "cell_type": "code",
      "execution_count": 1,
      "metadata": {
        "colab": {
          "base_uri": "https://localhost:8080/"
        },
        "id": "84SuAnGlf91X",
        "outputId": "28b2048b-0416-4bdd-ab81-c8686395fb4a"
      },
      "outputs": [
        {
          "output_type": "stream",
          "name": "stdout",
          "text": [
            "\u001b[K     |████████████████████████████████| 329 kB 4.2 MB/s \n",
            "\u001b[K     |████████████████████████████████| 4.8 MB 46.3 MB/s \n",
            "\u001b[K     |████████████████████████████████| 3.8 MB 32.8 MB/s \n",
            "\u001b[K     |████████████████████████████████| 462 kB 46.9 MB/s \n",
            "\u001b[K     |████████████████████████████████| 67 kB 5.6 MB/s \n",
            "\u001b[K     |████████████████████████████████| 895 kB 48.3 MB/s \n",
            "\u001b[K     |████████████████████████████████| 596 kB 49.9 MB/s \n",
            "\u001b[K     |████████████████████████████████| 6.6 MB 34.0 MB/s \n",
            "\u001b[?25h"
          ]
        }
      ],
      "source": [
        "!pip install -q alibi-detect"
      ]
    },
    {
      "cell_type": "code",
      "source": [
        "import matplotlib.pyplot as plt\n",
        "import numpy as np\n",
        "import pandas as pd\n",
        "import os\n",
        "import tensorflow as tf\n",
        "from alibi_detect.cd import KSDrift\n",
        "from alibi_detect.ad import ModelDistillation\n",
        "\n",
        "from alibi_detect.models.tensorflow.resnet import scale_by_instance\n",
        "from alibi_detect.utils.fetching import fetch_tf_model, fetch_detector\n",
        "from alibi_detect.utils.tensorflow.prediction import predict_batch\n",
        "from alibi_detect.utils.saving import save_detector\n",
        "from alibi_detect.datasets import fetch_cifar10c, corruption_types_cifar10c\n",
        "\n",
        "# source: https://docs.seldon.io/projects/alibi-detect/en/latest/examples/cd_distillation_cifar10.html#Dataset"
      ],
      "metadata": {
        "id": "CBfTe714gEjF"
      },
      "execution_count": 2,
      "outputs": []
    },
    {
      "cell_type": "code",
      "source": [
        "(X_train, y_train), (X_test, y_test) = tf.keras.datasets.cifar10.load_data()\n",
        "X_train = X_train.astype('float32') / 255\n",
        "X_train = scale_by_instance(X_train)\n",
        "y_train = y_train.astype('int64').reshape(-1,)\n",
        "X_test = X_test.astype('float32') / 255\n",
        "y_test = y_test.astype('int64').reshape(-1,)"
      ],
      "metadata": {
        "colab": {
          "base_uri": "https://localhost:8080/"
        },
        "id": "k39xkEjHgNO3",
        "outputId": "d8739557-0e24-42b0-dd89-6d61e1615b0b"
      },
      "execution_count": 3,
      "outputs": [
        {
          "output_type": "stream",
          "name": "stdout",
          "text": [
            "Downloading data from https://www.cs.toronto.edu/~kriz/cifar-10-python.tar.gz\n",
            "170500096/170498071 [==============================] - 11s 0us/step\n",
            "170508288/170498071 [==============================] - 11s 0us/step\n"
          ]
        }
      ]
    },
    {
      "cell_type": "code",
      "source": [
        "corruptions = corruption_types_cifar10c()\n",
        "print(corruptions)"
      ],
      "metadata": {
        "colab": {
          "base_uri": "https://localhost:8080/"
        },
        "id": "9JjRoS8igq7K",
        "outputId": "7d5ae132-4093-4a99-f3bb-10fa6a1c9e75"
      },
      "execution_count": 4,
      "outputs": [
        {
          "output_type": "stream",
          "name": "stdout",
          "text": [
            "['brightness', 'contrast', 'defocus_blur', 'elastic_transform', 'fog', 'frost', 'gaussian_blur', 'gaussian_noise', 'glass_blur', 'impulse_noise', 'jpeg_compression', 'motion_blur', 'pixelate', 'saturate', 'shot_noise', 'snow', 'spatter', 'speckle_noise', 'zoom_blur']\n"
          ]
        }
      ]
    },
    {
      "cell_type": "code",
      "source": [
        "corruption = ['gaussian_noise', 'motion_blur', 'brightness', 'pixelate']\n",
        "X_corr, y_corr = fetch_cifar10c(corruption=corruption, severity=5, return_X_y=True)\n",
        "X_corr = X_corr.astype('float32') / 255"
      ],
      "metadata": {
        "id": "1tc0AoESguTD"
      },
      "execution_count": 5,
      "outputs": []
    },
    {
      "cell_type": "code",
      "source": [
        "X_c = []\n",
        "n_corr = len(corruption)\n",
        "n_test = X_test.shape[0]\n",
        "for i in range(n_corr):\n",
        "    X_c.append(X_corr[i * n_test:(i + 1) * n_test])"
      ],
      "metadata": {
        "id": "C1BgiCsdg6j1"
      },
      "execution_count": 6,
      "outputs": []
    },
    {
      "cell_type": "code",
      "source": [
        "i = 1\n",
        "\n",
        "n_test = X_test.shape[0]\n",
        "plt.title('Original')\n",
        "plt.axis('off')\n",
        "plt.imshow(X_test[i])\n",
        "plt.show()\n",
        "for _ in range(len(corruption)):\n",
        "    plt.title(corruption[_])\n",
        "    plt.axis('off')\n",
        "    plt.imshow(X_corr[n_test * _+ i])\n",
        "    plt.show()"
      ],
      "metadata": {
        "colab": {
          "base_uri": "https://localhost:8080/",
          "height": 1000
        },
        "id": "8PyzUTwDhH9g",
        "outputId": "3c8bf6c7-7a19-428b-edac-c066762742bb"
      },
      "execution_count": 7,
      "outputs": [
        {
          "output_type": "display_data",
          "data": {
            "text/plain": [
              "<Figure size 432x288 with 1 Axes>"
            ],
            "image/png": "[encoded data removed]"
          },
          "metadata": {
            "needs_background": "light"
          }
        },
        {
          "output_type": "display_data",
          "data": {
            "text/plain": [
              "<Figure size 432x288 with 1 Axes>"
            ],
            "image/png": "[encoded data removed]"
          },
          "metadata": {
            "needs_background": "light"
          }
        },
        {
          "output_type": "display_data",
          "data": {
            "text/plain": [
              "<Figure size 432x288 with 1 Axes>"
            ],
            "image/png": "[encoded data removed]"
          },
          "metadata": {
            "needs_background": "light"
          }
        },
        {
          "output_type": "display_data",
          "data": {
            "text/plain": [
              "<Figure size 432x288 with 1 Axes>"
            ],
            "image/png": "[encoded data removed]"
          },
          "metadata": {
            "needs_background": "light"
          }
        },
        {
          "output_type": "display_data",
          "data": {
            "text/plain": [
              "<Figure size 432x288 with 1 Axes>"
            ],
            "image/png": "[encoded data removed]"
          },
          "metadata": {
            "needs_background": "light"
          }
        }
      ]
    },
    {
      "cell_type": "code",
      "source": [
        "dataset = 'cifar10'\n",
        "model = 'resnet32'\n",
        "clf = fetch_tf_model(dataset, model)\n",
        "acc = clf.evaluate(scale_by_instance(X_test), y_test, batch_size=128, verbose=0)[1]\n",
        "print('Test set accuracy:')\n",
        "print('Original {:.4f}'.format(acc))\n",
        "clf_accuracy = {'original': acc}\n",
        "for _ in range(len(corruption)):\n",
        "    acc = clf.evaluate(scale_by_instance(X_c[_]), y_test, batch_size=128, verbose=0)[1]\n",
        "    clf_accuracy[corruption[_]] = acc\n",
        "    print('{} {:.4f}'.format(corruption[_], acc))"
      ],
      "metadata": {
        "colab": {
          "base_uri": "https://localhost:8080/"
        },
        "id": "MdAZkO1VhT5p",
        "outputId": "040f9017-6050-4d99-98b2-56cbaeb73ed2"
      },
      "execution_count": 8,
      "outputs": [
        {
          "output_type": "stream",
          "name": "stdout",
          "text": [
            "Downloading data from https://storage.googleapis.com/seldon-models/alibi-detect/classifier/cifar10/resnet32/model.h5\n",
            "4300800/4293464 [==============================] - 0s 0us/step\n",
            "4308992/4293464 [==============================] - 0s 0us/step\n",
            "Test set accuracy:\n",
            "Original 0.9278\n",
            "gaussian_noise 0.2208\n",
            "motion_blur 0.6339\n",
            "brightness 0.8913\n",
            "pixelate 0.3666\n"
          ]
        }
      ]
    },
    {
      "cell_type": "code",
      "source": [
        ""
      ],
      "metadata": {
        "id": "YbyWW_amhgdE"
      },
      "execution_count": 8,
      "outputs": []
    }
  ]
}