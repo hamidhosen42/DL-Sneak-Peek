{
 "cells": [
  {
   "cell_type": "markdown",
   "metadata": {},
   "source": [
    "আপনই যদি টেন্সরফ্লো ২.* ইন্সটল করতে চান তাহলে pip বা conda প্যাকেজ ম্যানেজার ব্যবহার করে করেতে পারেন । নিচে আমি pip দিয়ে ইন্সটল করা দেখাব । \n",
    "\n",
    "আপনি যদি [colab](colab.research.google.com/) ব্যবহার করেন তাহলে ইন্সটল করার দরকার নাই । colab এ বাইডিফল্ট ইন্সটল করা থাকে । শুধু আপনাকে \n",
    "টেন্সরফ্লো ২.* এনাবল করে নিতে হবে । এর জন্য আপনাকে টেন্সরফ্লো ইম্পোট করার আগে এই কমান্ড দিতে হবে । \n",
    "\n",
    "`%tensorflow_version 2.x`"
   ]
  },
  {
   "cell_type": "code",
   "execution_count": null,
   "metadata": {},
   "outputs": [],
   "source": [
    "!pip install -qq tensorflow\n",
    "!pip install matplotlib # ডাটা প্লট করার জন্য এইটা লাগবে । "
   ]
  },
  {
   "cell_type": "markdown",
   "metadata": {},
   "source": [
    "আপনার টেন্সরফ্লোর ভার্সন দেখার জন্য এই ভাবে লিখতে হবে । "
   ]
  },
  {
   "cell_type": "code",
   "execution_count": 1,
   "metadata": {},
   "outputs": [
    {
     "name": "stdout",
     "output_type": "stream",
     "text": [
      "2.1.0\n"
     ]
    }
   ],
   "source": [
    "import tensorflow as tf\n",
    "\n",
    "print(tf.__version__)"
   ]
  },
  {
   "cell_type": "markdown",
   "metadata": {},
   "source": [
    "\n",
    "# টেন্সরফ্লো ২.০ ও কেরাস এর সংক্ষিপ্ত বিবরণ\n",
    "\n",
    "টেন্সরফ্লো ও কেরাস দুইটাই এখন থেকে প্রায় ২ বছর আগে রিলিজ হয়েছিল । কেরাস ২০১৫ সালের মার্চ মাসে এবং টেন্সরফ্লো নভেম্বার মাসে যাত্রা শুরু করে ।\n",
    "\n",
    "প্রায় ৪ বছর পার হতে চলছে । এই সময়ের মাঝে টেন্সরফ্লো ১.* + কেরাস নিয়ে ডেভলপার ও গবেষকরা যেমন অনেক বড়বড় কাজ কাজ করেছে । এই কাজগুলো করতে  গিয়ে বেশ কিছু সমস্যারও সম্মুখীন হয়েছে । সমস্যাগুলো এই রকম\n",
    "\n",
    "- টেন্সরফ্লো দিয়ে যে কম্পিউটেশন গ্রাফ বানানো হয় সেটা একটা স্ট্যাটিক গ্রাফ । অর্থাৎ কম্পিউটেশন গ্রাফ একবার ডিফাইন কোরার পরে এইটা আর পরিবর্তন কোরা যায় না । বিষয়টা যদি আরও ভেঙ্গে বলতে হয় তাহলে এই ভাবে বলা যেতে পারে । মনে করেন আপনার কম্পিউটেশন গ্রাফে ১০০ টা নোড আছে । এখন আপনি চাচ্ছেন এই কম্পিউটেশন গ্রাফের বিভিন্ন প্যারামিটার যখন কম্পিউট করবেন তখন ডাইন্যামিক্যালই কিছু নোড এড বা ডিলিট করবেন । এই কাজটা আপনি করতে পারবেন না ।   \n",
    "- নর্মাল প্রোগ্রামিং এ ডিবাগ কোরা খুব সহজ । কারণ আপনি লাইন বাই লাইন এক্সিকিউত করে কোন ভারিয়েবল কি করতেছে সেটা প্রিন্ট করে দেখতে পারেন । কিন্তু টেন্সরফ্লো তে আপনি এটা করতে পারবেন না । এবং আমরা যারা প্রোগ্রামার এবং আমরা যেভাবে কাজ করি, টেন্সরফ্লোর এই বিশিষ্ট আমাদের সাথে যায় না । এবং এই ধরনের প্রোগ্রামিং প্যারাডাইমের সাথে খাপ খাওয়া বেশ কঠিন ।\n",
    "- টেন্সরফ্লো এপিআই খুব শক্তিশালী ও ফ্লেক্সিবল কিন্তু এটা কিছু কিছু ক্ষেত্রে কনফিউসিং এবং সঠিক ভাবে এপআই ব্যবহার করা বেশ কঠিন । \n",
    "- অন্যদিকে কেরাস ব্যবহার করা খুব সহজ । কেরাস ব্যবহার করে খুব দ্রুত এক্সপেরিমেন্ট করা যায় । কিন্তু এটা সমস্যা হল এটা টেন্সরফ্লোর মত অতটা ফ্লেক্সিবল না । ফ্লেক্সিবল বলতে বোঝান হচ্ছে যে এটা নিজের মত করে কাস্টমাইজ করা টেন্সরফ্লোর তুলনায় বেশ কঠিন ।   \n",
    "\n",
    "\n",
    "টেন্সরফ্লো ২.* এ টেন্সরফ্লো ১.* কে নতুন করে ডিজাইন করা হয়েছে । এবং টেন্সরফ্লো ও কেরাস কে একসাথে মার্জ করা হয়েছে । যার ফলে এখন টেন্সরফ্লো থেকেই কেরাস এর সকল এপিএই ব্যবহার করা যাবে । টেন্সরফ্লো ১.* এর যে সমস্যা গুলো ছিল সেগুলো ২.* এ সমাধান করা হয়েছে । এবং এটা করা হয়েছে এই দীর্ঘ ৪ বছরে ডেভলপার কাছে থেকে বিভিন্ন সময় ফিডব্যাক নিয়ে ।  \n",
    "\n",
    "টেন্সরফ্লো ২.* এ নিচের আইডিয়া গুলো ইমপ্লিমেন্ট করা হয়েছে যেগুলো টেন্সরফ্লো ১.* ছিল না । \n",
    "\n",
    "- এখন টেন্সরফ্লোর কম্পিউটেশন (Numpy)[https://numpy.org/] মত করা যাবে । এবং আমরা নরমাল পাইথন কোড যেভাবে লিখি সেইভাবেই কোড লিখা যাবে । - স্ট্যাটিক গ্রাফ কম্পিউটেসনের সুবিধা এখানে রাখা হইছে । এটা রাখার মুল কারণ হল এর ফলে কম্পিউটেস খুব দ্রুত করা সম্ভব হয় যেটা ডাইনামিক গ্রাফে এখন পর্যন্ত সম্ভব না । \n",
    "- টেন্সরফ্লো ২.* এ কেরাস কে হাই লেভেল ডিপ লার্নিং এপিআই হিসাবে রাখা হয়েছে । এটা করার কারণ যাতে নতুনরা খুব সহজে এটা নিয়ে কাজ করতে পারে । \n",
    "- টেন্সরফ্লো ২.* এর মাঝে কেরাস কে এমন ভাবে ডিজাইন করা হয়েছে যারা ফলে হাই লেভেল (সহজে ব্যবহার করা যায় কিন্তু কম ফ্লেক্সিবল) + লো-লেভেল এপিআই (ব্যবহার করার জন্য বটেন্সরফ্লোর উপর বেশ ভাল দক্ষতা প্রয়োজন কিন্তু এটা খুবই ফ্লেক্সিবল) কোনরকম হেসেল ছাড়াই একসাথে ব্যবহার করা যায় ।  \n",
    "\n",
    "\n"
   ]
  },
  {
   "cell_type": "markdown",
   "metadata": {},
   "source": [
    "# টেন্সরফ্লোর প্রথমিক ধারনা \n",
    "\n",
    "###  টেন্সরফ্লোর নাম কেন টেন্সরফ্লো\n",
    "\n",
    "এটা ডাটার ফ্লো হ্যান্ডলে করে । ডাটা কিভাবে নেটওয়ার্কের মধ্যে দিয়ে পাস হবে সেটা ডিফাইন করে । এবং ডাটাগুলো রাখা হয় টেনসর আকাটা । এই জন্য এটার নাম দেয়া হয়েছে টেন্সরফ্লো ।  \n",
    "\n",
    "### টেন্সর কি জিনিস \n",
    "\n",
    "আমরা জানি অ্যারে একটা ডাটা টাইপ । টেন্সর একটা N ডাইমেসন অ্যারে । \n",
    "\n",
    "আপনি যদি একটা [কনস্টেন্ট](https://www.tensorflow.org/api_docs/python/tf/constant) টেন্সর ডিফাইন করতে চান তাহলে এই ভাবে করতে হবে । "
   ]
  },
  {
   "cell_type": "code",
   "execution_count": 2,
   "metadata": {},
   "outputs": [
    {
     "name": "stdout",
     "output_type": "stream",
     "text": [
      "tf.Tensor(\n",
      "[[5 2]\n",
      " [1 3]], shape=(2, 2), dtype=int32)\n"
     ]
    }
   ],
   "source": [
    "x = tf.constant([[5, 2], [1, 3]])\n",
    "print(x)"
   ]
  },
  {
   "cell_type": "markdown",
   "metadata": {},
   "source": [
    "এখানে আমরা দেখতে পাচ্ছি যে আমরা যে ভেলুগুলো দিয়ে কনস্টেন্ট টাইপ টেন্সর ডিফাইন করলাম সেটা ভালুর সাথে আরও দুইটা জিনিস দেখাচ্ছে । \n",
    "\n",
    "- shape=(2, 2)\n",
    "- dtype=int32\n",
    "\n",
    "এটা যেহেতু ২x২ টেন্সর সেহেতু `shape=(2, 2)` দেখাচ্ছে । আর এখানে যেহেতু সবগুলো ভেলু ইন্টিজার সেহেতু ডাইন্যামিক্যালি ডাটা টাইপ `int32` বুঝে নিয়েছে । আপনি যদি এই ৪ টা সংখ্যার যেকোনো একটা সংখ্যা কে `float` হিসাবে দেন তাহলে দেখবেন `dtype=float32` দেখাচ্ছে । আপনি ৫ এর জায়গায় ৫.১ দিয়ে দেখতে পারেন । \n",
    "\n",
    "আপনি চাইলে টেন্সর ভেরিয়েবল ডিফাইন করার সময়ও ডাটা টাইপ ডিফাইন করে দিতে পারেন । নিচের মত করে "
   ]
  },
  {
   "cell_type": "code",
   "execution_count": 3,
   "metadata": {},
   "outputs": [
    {
     "name": "stdout",
     "output_type": "stream",
     "text": [
      "tf.Tensor(\n",
      "[[5 2]\n",
      " [1 3]], shape=(2, 2), dtype=int16)\n"
     ]
    }
   ],
   "source": [
    "x = tf.constant([[5, 2], [1, 3]], dtype='int16')\n",
    "print(x)"
   ]
  },
  {
   "cell_type": "markdown",
   "metadata": {},
   "source": [
    "এখন আপনি চাচ্ছেন x প্রিন্ট করলে numpy এ যেভাবে প্রিন্ট করে সেভাবে প্রিন্ট করবে । এটা করার জন্য আপনাকে `.numpy()` ব্যবহার করতে হবে । এটা টেন্সরফ্লো ২.* এ নতুন এড করা হয়েছে । টেন্সরফ্লো ১.* আপনি এটা পাবেন না । "
   ]
  },
  {
   "cell_type": "code",
   "execution_count": 4,
   "metadata": {},
   "outputs": [
    {
     "data": {
      "text/plain": [
       "array([[5, 2],\n",
       "       [1, 3]], dtype=int16)"
      ]
     },
     "execution_count": 4,
     "metadata": {},
     "output_type": "execute_result"
    }
   ],
   "source": [
    "x.numpy()"
   ]
  },
  {
   "cell_type": "markdown",
   "metadata": {},
   "source": [
    "ভেরিয়েবলের ডাটা টাইপ ও শেপ পাওয়ার জন্য আপনি এই ভাবে লিখতে পারেন ।"
   ]
  },
  {
   "cell_type": "code",
   "execution_count": 5,
   "metadata": {},
   "outputs": [
    {
     "name": "stdout",
     "output_type": "stream",
     "text": [
      "dtype: <dtype: 'int16'>\n",
      "shape: (2, 2)\n"
     ]
    }
   ],
   "source": [
    "print('dtype:', x.dtype)\n",
    "print('shape:', x.shape)"
   ]
  },
  {
   "cell_type": "markdown",
   "metadata": {},
   "source": [
    "আপনি যদি ০ এবং ১ দিয়ে টেন্সর ইনিসিয়ালাইজ করতে চান তাহলে এই ভাবে করতে পারেন ।"
   ]
  },
  {
   "cell_type": "code",
   "execution_count": 6,
   "metadata": {},
   "outputs": [
    {
     "name": "stdout",
     "output_type": "stream",
     "text": [
      "tf.Tensor(\n",
      "[[1. 1.]\n",
      " [1. 1.]], shape=(2, 2), dtype=float32)\n",
      "tf.Tensor(\n",
      "[[0. 0.]\n",
      " [0. 0.]], shape=(2, 2), dtype=float32)\n"
     ]
    }
   ],
   "source": [
    "print(tf.ones(shape=(2, 2)))\n",
    "print(tf.zeros(shape=(2, 2)))"
   ]
  },
  {
   "cell_type": "markdown",
   "metadata": {},
   "source": [
    "## টেন্সরে rank কি ? \n",
    "\n",
    "আমরা অ্যারের ডাইমেসন সম্পর্কে জানি । টেন্সরের Rank এবং ডাইমেসন একই জিনিস । Rank এর উপর নির্ভর করে টেন্সরের গাণিতিক নাম (টেবিল লক্ষ করেন) আলাদা আলাদা হয় । নিচে আমরা কিছু উদারন দেখি । "
   ]
  },
  {
   "cell_type": "code",
   "execution_count": 7,
   "metadata": {},
   "outputs": [
    {
     "name": "stdout",
     "output_type": "stream",
     "text": [
      "Rank is: 0\n",
      "Rank is: 1\n",
      "Rank is: 2\n",
      "Rank is: 3\n",
      "Rank is: 4\n"
     ]
    }
   ],
   "source": [
    "rank_0 = tf.Variable(7)\n",
    "rank_1 = tf.Variable([7])\n",
    "rank_2 = tf.Variable([[1, 2], [3, 4]])\n",
    "rank_3 = tf.Variable([[[1, 2], [3, 4]], [[5, 6], [7, 8]]])\n",
    "rank_4 = tf.reshape(tf.range(start=0, limit=24, delta=1), shape=[2, 3, 2, 2])\n",
    "\n",
    "ranks = [rank_0, rank_1, rank_2, rank_3, rank_4]\n",
    "\n",
    "for rank in ranks:\n",
    "    print(\"Rank is:\", tf.rank(rank).numpy())"
   ]
  },
  {
   "cell_type": "markdown",
   "metadata": {},
   "source": [
    "কোন একটা টেন্সরের ডাইমেসনের / র‍্যঙ্ক এর উপর ভিত্তি করে এটা কে কি বলে সেটা নিচের টেবিলে দেখান হল । \n",
    "\n",
    "|Rank | Math entity                      | Example              |\n",
    "|-----|----------------------------------|-----------------------\n",
    "| 0   | Scalar (magnitude only)          |[1.5]\n",
    "| 1   | Vector (magnitude and direction) |[2, 3, 5, 8 11]\n",
    "| 2   | Matrix (table of numbers)        |[[1, 2], [3, 4]]\n",
    "| 3   | 3-Tensor (cube of numbers)       |[[[1], [2]], [[3], [4]]]\n",
    "| n   | n-Tensor (you get the idea)      |[[[1, 2], [3, 4], [5, 6]], [[7, 8], [9, 10], [11, 12]]]\n",
    "\n",
    "টেবিল থেকে দেখতে পাচ্ছি যে rank ০ হলে সেটার নাম sclar, ১ হলে সেটা নাম ভেক্টর, ২ হলে সেটার নাম মেট্রিক্স ৩ হলে ৩ ডাইমেসন টেন্সর এভাবে চলতে থাকবে "
   ]
  },
  {
   "cell_type": "markdown",
   "metadata": {},
   "source": [
    "# Probability distribution\n",
    "\n",
    "এখন আমরা দেখি যে বিভিন্ন probability distribution এর উপর ভিত্তিক করে টেন্সরফ্লোতে কিভাবে র‍্যান্ডম নাম্বার কিভাবে জেনারেট করা যায় । \n",
    "\n",
    "প্রথমে দেখি [নরমাল ডিসট্রিবিউসন](https://www.tensorflow.org/api_docs/python/tf/random/normal):"
   ]
  },
  {
   "cell_type": "code",
   "execution_count": 8,
   "metadata": {},
   "outputs": [
    {
     "data": {
      "image/png": "[encoded data removed]",
      "text/plain": [
       "<Figure size 432x288 with 1 Axes>"
      ]
     },
     "metadata": {
      "needs_background": "light"
     },
     "output_type": "display_data"
    }
   ],
   "source": [
    "from matplotlib import pyplot as plt\n",
    "\n",
    "N = 100\n",
    "normal_dist = tf.random.normal(shape=(N,), mean=0., stddev=1.)\n",
    "plt.plot(normal_dist)\n",
    "plt.xlabel('Random number idx')\n",
    "plt.ylabel('N random value')\n",
    "plt.show()"
   ]
  },
  {
   "cell_type": "markdown",
   "metadata": {},
   "source": [
    "উপরের ছবি থেকে দেখা যাচ্ছে যে । বেশিভাগ র‍্যান্ডম সংখ্যা ০ এর আসে-পাসে জেনারেট করেছে (কারণ আমরা mean=0. বলে দিয়েছি) এবং সংখ্যা গুলো mean থেকে ১ এর আসে পাসে ঘুরা ঘুরি করছে । এর কারণ হল আমরা stddev=1. ব্যবহার করেছি ।  stddev=1. সেট করে আমরা বলে দিয়েছি যে, যে সংখ্যা গুলো জেনারেট হবে সেগুলোর দূরত্ব mean থেকে ১ এর কাছাকাছি হবে । আপনারা mean=0., stddev=1. এর বিভিন্ন মান দিয়ে ডাটা প্লট করে দেখতে পারেন । "
   ]
  },
  {
   "cell_type": "markdown",
   "metadata": {},
   "source": [
    "এখন দেখি [ইউনিফরম ডিসট্রিবিউসন](https://www.tensorflow.org/api_docs/python/tf/random/uniform):"
   ]
  },
  {
   "cell_type": "code",
   "execution_count": 9,
   "metadata": {},
   "outputs": [
    {
     "data": {
      "text/plain": [
       "<tf.Tensor: shape=(4, 4), dtype=int32, numpy=\n",
       "array([[2, 9, 5, 4],\n",
       "       [2, 3, 9, 0],\n",
       "       [5, 0, 9, 7],\n",
       "       [3, 0, 7, 7]], dtype=int32)>"
      ]
     },
     "execution_count": 9,
     "metadata": {},
     "output_type": "execute_result"
    }
   ],
   "source": [
    "tf.random.uniform(shape=(4, 4), minval=0, maxval=10, dtype='int32')"
   ]
  },
  {
   "cell_type": "markdown",
   "metadata": {},
   "source": [
    "এখানে দেখা যাচ্ছে যে সব সংখ্যা ০ থেকে ১০ এর মাঝেই জেনারট করেছে\n",
    "\n",
    "বিভিন্ন সম্পর্কে জানতে দেখতে পারেন [probability distribution](https://www.analyticsvidhya.com/blog/2017/09/6-probability-distributions-data-science/)"
   ]
  },
  {
   "cell_type": "markdown",
   "metadata": {},
   "source": [
    "## Variables কি "
   ]
  },
  {
   "cell_type": "markdown",
   "metadata": {},
   "source": [
    "এই পর্যন্ত আমরা যে টেন্সর দেখলাম সবগুলো কনস্টেন্ট টেন্সর । অর্থাৎ এটা একবার ইনিসিয়ালাইজ করার পরে আর পরিবর্তন করা যায় না । এখন আমার এমন একটা টেন্সরের প্রয়োজন যেটা ইচ্ছা মত পরে পরিবর্তন করা যাবে । এই ধরনের ক্ষেত্রে আমাকে `tf.Varialbe()` দিয়ে টেন্সর ভারিয়েবল ডিফাইন করতে হবে । প্রোগ্রামিং এর ভাষায় এই ধরনের ভেরিয়েবল কে বলে মিউটেবল ভেরিয়েবল । নেটওয়ার্কে ওয়েট ইনিসিয়ালাইজ করার জন্য এটা ব্যবহার করা হয় কারণ নেটওয়ার্ক যখন ট্রেনিং করানো হয় তখন এই ওয়েট আপডেট করতে হয় । \n",
    "\n",
    "এটা সম্পর্কে আরও জানতে...[Variables](https://www.tensorflow.org/guide/variable) "
   ]
  },
  {
   "cell_type": "code",
   "execution_count": 11,
   "metadata": {},
   "outputs": [
    {
     "name": "stdout",
     "output_type": "stream",
     "text": [
      "<tf.Variable 'Variable:0' shape=(2, 2) dtype=float32, numpy=\n",
      "array([[-0.00117146,  0.7254187 ],\n",
      "       [ 0.8542992 , -0.55369925]], dtype=float32)>\n"
     ]
    }
   ],
   "source": [
    "initial_value = tf.random.normal(shape=(2, 2))\n",
    "a = tf.Variable(initial_value)\n",
    "print(a)"
   ]
  },
  {
   "cell_type": "markdown",
   "metadata": {},
   "source": [
    "এই ভেরিয়েবল এর ভেলু আপডেট করতে চাইলে আমরা `.assign(value)`, বা `.assign_add(increment)` বা `.assign_sub(decrement)` ব্যবহার করতে পারি । নিচে একটা উদাহরণ দেখি । "
   ]
  },
  {
   "cell_type": "code",
   "execution_count": 12,
   "metadata": {},
   "outputs": [
    {
     "name": "stdout",
     "output_type": "stream",
     "text": [
      "value of a after assign new value: <tf.Variable 'Variable:0' shape=(2, 2) dtype=float32, numpy=\n",
      "array([[1., 1.],\n",
      "       [1., 1.]], dtype=float32)>\n"
     ]
    }
   ],
   "source": [
    "new_value = tf.ones(shape=(2, 2))\n",
    "a.assign(new_value)\n",
    "for i in range(2):\n",
    "  for j in range(2):\n",
    "    a[i, j] == new_value[i, j]\n",
    "print('value of a after assign new value:', a)"
   ]
  },
  {
   "cell_type": "markdown",
   "metadata": {},
   "source": [
    "`.assign_add` এর একটা উদাহরণ দেখি "
   ]
  },
  {
   "cell_type": "code",
   "execution_count": 13,
   "metadata": {},
   "outputs": [
    {
     "name": "stdout",
     "output_type": "stream",
     "text": [
      "<tf.Variable 'Variable:0' shape=(2, 2) dtype=float32, numpy=\n",
      "array([[2., 2.],\n",
      "       [2., 2.]], dtype=float32)>\n"
     ]
    }
   ],
   "source": [
    "added_value = tf.ones(shape=(2, 2))\n",
    "a.assign_add(added_value)\n",
    "for i in range(2):\n",
    "  for j in range(2):\n",
    "    a[i, j] == new_value[i, j] + added_value[i, j]\n",
    "print(a)"
   ]
  },
  {
   "cell_type": "markdown",
   "metadata": {},
   "source": [
    "# টেন্সরফ্লো দিয়ে কমন কিছু ম্যাথ অপারেশন\n",
    "আপনি নামপাই এ যেভাবে ম্যাথ অপারেশন করেন ঠিক একই ভাবে টেন্সরফ্লোতেও করতে পারবেন । নামপাই এবং টেন্সরফ্লো এর মধ্যে মুল পার্থক্য হল টেন্সরফ্লো কোড আপনি CPU, [GPU](https://en.wikipedia.org/wiki/Graphics_processing_unit) এবং [TPU](https://en.wikipedia.org/wiki/Tensor_processing_unit) তে রান করতে পারবেন । "
   ]
  },
  {
   "cell_type": "code",
   "execution_count": 14,
   "metadata": {},
   "outputs": [
    {
     "name": "stdout",
     "output_type": "stream",
     "text": [
      "a: [1. 1. 1. 1.]\n",
      "b: [1. 1. 1. 1.]\n",
      "c: [2. 2. 2. 2.]\n",
      "square: [4. 4. 4. 4.]\n",
      "exp   : [54.59815 54.59815 54.59815 54.59815]\n"
     ]
    }
   ],
   "source": [
    "a = tf.ones(shape=(2, 2))\n",
    "b = tf.ones(shape=(2, 2))\n",
    "print('a:', a.numpy().flatten())\n",
    "print('b:', b.numpy().flatten())\n",
    "c = a + b\n",
    "print('c:', c.numpy().flatten())\n",
    "d = tf.square(c)\n",
    "print('square:', d.numpy().flatten())\n",
    "e = tf.exp(d)\n",
    "print('exp   :', e.numpy().flatten())"
   ]
  },
  {
   "cell_type": "code",
   "execution_count": null,
   "metadata": {},
   "outputs": [],
   "source": []
  }
 ],
 "metadata": {
  "kernelspec": {
   "display_name": "Python [conda env:tf2.x] *",
   "language": "python",
   "name": "conda-env-tf2.x-py"
  },
  "language_info": {
   "codemirror_mode": {
    "name": "ipython",
    "version": 3
   },
   "file_extension": ".py",
   "mimetype": "text/x-python",
   "name": "python",
   "nbconvert_exporter": "python",
   "pygments_lexer": "ipython3",
   "version": "3.7.6"
  }
 },
 "nbformat": 4,
 "nbformat_minor": 4
}
