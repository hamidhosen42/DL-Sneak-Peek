{
  "nbformat": 4,
  "nbformat_minor": 0,
  "metadata": {
    "colab": {
      "name": "mixed-precesion-training.ipynb",
      "provenance": [],
      "authorship_tag": "ABX9TyMCseC8LXy8zROyJjdBZUbf",
      "include_colab_link": true
    },
    "kernelspec": {
      "name": "python3",
      "display_name": "Python 3"
    },
    "language_info": {
      "name": "python"
    },
    "accelerator": "GPU"
  },
  "cells": [
    {
      "cell_type": "markdown",
      "metadata": {
        "id": "view-in-github",
        "colab_type": "text"
      },
      "source": [
        "<a href=\"https://colab.research.google.com/github/menon92/DL-Sneak-Peek/blob/master/mixed_precesion_training.ipynb\" target=\"_parent\"><img src=\"https://colab.research.google.com/assets/colab-badge.svg\" alt=\"Open In Colab\"/></a>"
      ]
    },
    {
      "cell_type": "code",
      "metadata": {
        "id": "SuRJpSIzieBa"
      },
      "source": [
        "import tensorflow as tf\n",
        "\n",
        "from tensorflow import keras\n",
        "from tensorflow.keras import layers\n",
        "from tensorflow.keras.models import Model\n",
        "from tensorflow.keras.applications import VGG16\n",
        "from tensorflow.keras.preprocessing import image"
      ],
      "execution_count": 1,
      "outputs": []
    },
    {
      "cell_type": "code",
      "metadata": {
        "colab": {
          "base_uri": "https://localhost:8080/"
        },
        "id": "H1Kq47b-rw8o",
        "outputId": "520ccdb7-5b8f-4529-ccf2-37c0357e66fd"
      },
      "source": [
        "!nvidia-smi -L"
      ],
      "execution_count": 2,
      "outputs": [
        {
          "output_type": "stream",
          "text": [
            "GPU 0: Tesla T4 (UUID: GPU-fddc28be-8e4d-02c9-b105-0075b2347b2f)\n"
          ],
          "name": "stdout"
        }
      ]
    },
    {
      "cell_type": "code",
      "metadata": {
        "colab": {
          "base_uri": "https://localhost:8080/"
        },
        "id": "6yadq3mGixfb",
        "outputId": "76e572fd-7bd0-48fa-bc10-4bbee60cecf1"
      },
      "source": [
        "print(f\"Tensorflwo verison: {tf.__version__}\")\n",
        "print(f\"GPU device name   : {tf.config.list_physical_devices('GPU')}\")"
      ],
      "execution_count": 3,
      "outputs": [
        {
          "output_type": "stream",
          "text": [
            "Tensorflwo verison: 2.4.1\n",
            "GPU device name   : [PhysicalDevice(name='/physical_device:GPU:0', device_type='GPU')]\n"
          ],
          "name": "stdout"
        }
      ]
    },
    {
      "cell_type": "code",
      "metadata": {
        "colab": {
          "base_uri": "https://localhost:8080/"
        },
        "id": "opdcIuDpjzjx",
        "outputId": "efa3be24-7c5d-41e4-88dc-495182a7c37e"
      },
      "source": [
        "data_dir = tf.keras.utils.get_file(\n",
        "    'flower_photos',\n",
        "    'https://storage.googleapis.com/download.tensorflow.org/example_images/flower_photos.tgz',\n",
        "    untar=True)\n",
        "print(\"Data dir:\", data_dir)"
      ],
      "execution_count": 4,
      "outputs": [
        {
          "output_type": "stream",
          "text": [
            "Downloading data from https://storage.googleapis.com/download.tensorflow.org/example_images/flower_photos.tgz\n",
            "228818944/228813984 [==============================] - 1s 0us/step\n",
            "Data dir: /root/.keras/datasets/flower_photos\n"
          ],
          "name": "stdout"
        }
      ]
    },
    {
      "cell_type": "code",
      "metadata": {
        "id": "-C7rjqk9fTlH"
      },
      "source": [
        "BATCH_SIZE = 128\n",
        "IMAGE_SIZE = (128, 128)"
      ],
      "execution_count": 5,
      "outputs": []
    },
    {
      "cell_type": "code",
      "metadata": {
        "colab": {
          "base_uri": "https://localhost:8080/"
        },
        "id": "TopyJJRQlGV7",
        "outputId": "3dcc0144-1ca4-46c7-a8b5-ad53f8cc4c13"
      },
      "source": [
        "valid_datagen = image.ImageDataGenerator(\n",
        "    rescale=1./255,\n",
        "    validation_split=.20\n",
        ")\n",
        "train_datagen = image.ImageDataGenerator(\n",
        "    rotation_range=40,\n",
        "    horizontal_flip=True,\n",
        "    width_shift_range=0.2,\n",
        "    height_shift_range=0.2,\n",
        "    shear_range=0.2,\n",
        "    zoom_range=0.2,\n",
        "    rescale=1./255,\n",
        "    validation_split=.20\n",
        ")\n",
        "\n",
        "print('Validation data:')\n",
        "valid_generator = valid_datagen.flow_from_directory(\n",
        "    data_dir,\n",
        "    subset=\"validation\",\n",
        "    shuffle=False, \n",
        "    target_size=IMAGE_SIZE,\n",
        "    batch_size=BATCH_SIZE,\n",
        "    interpolation=\"bilinear\"\n",
        ")\n",
        "print('Training data:')\n",
        "train_generator = train_datagen.flow_from_directory(\n",
        "    data_dir,\n",
        "    subset=\"training\",\n",
        "    shuffle=True, \n",
        "    target_size=IMAGE_SIZE,\n",
        "    batch_size=BATCH_SIZE,\n",
        "    interpolation=\"bilinear\"\n",
        ")"
      ],
      "execution_count": 6,
      "outputs": [
        {
          "output_type": "stream",
          "text": [
            "Validation data:\n",
            "Found 731 images belonging to 5 classes.\n",
            "Training data:\n",
            "Found 2939 images belonging to 5 classes.\n"
          ],
          "name": "stdout"
        }
      ]
    },
    {
      "cell_type": "code",
      "metadata": {
        "id": "Wps49PUKlG28"
      },
      "source": [
        "def create_model(img_size=(256, 256), num_class=5, train_base=True):\n",
        "    '''Create model for training\n",
        "    '''\n",
        "    # init input layer \n",
        "    input_layer = layers.Input(shape=(img_size[0], img_size[1], 3), name='input')\n",
        "    \n",
        "    # init VGG16 model\n",
        "    base_model = VGG16(\n",
        "        input_tensor=input_layer, include_top=False, weights=\"imagenet\")\n",
        "\n",
        "    # set all layer of base model trainable statue\n",
        "    base_model.trainable = train_base\n",
        "    \n",
        "    # take output from base model\n",
        "    x = base_model.output\n",
        "    x = layers.GlobalAveragePooling2D()(x)\n",
        "    x = layers.Dense(num_class, name='logits')(x)\n",
        "\n",
        "    # for final softmax activation explicit setting of dtype=float32 is important \n",
        "    # because for mixed precesion, softmax will be in float 16 which is not \n",
        "    # numerically stable computation\n",
        "    preds = layers.Activation('softmax', dtype='float32', name='predictions')(x)\n",
        "\n",
        "    # create a Model usilng input and output\n",
        "    model = Model(inputs=input_layer, outputs=preds)\n",
        "\n",
        "    return model\n",
        "\n",
        "\n",
        "def print_model_data_type_policy(model):\n",
        "    '''Print model dtype policy and and layer dtype of given model'''\n",
        "    for i, layer in enumerate(model.layers):\n",
        "        print(\n",
        "            f\"[ {i+1:02d} ] layer.dtype_policy: {layer.dtype_policy}, \"\n",
        "            f\"dtype.name: {layer.dtype} layer.name: {layer.name}\"\n",
        "        )"
      ],
      "execution_count": 47,
      "outputs": []
    },
    {
      "cell_type": "code",
      "metadata": {
        "id": "76L0tjTzl-O9",
        "colab": {
          "base_uri": "https://localhost:8080/"
        },
        "outputId": "0c5286d8-afe3-467e-d100-15b7194bb889"
      },
      "source": [
        "model = create_model(img_size=IMAGE_SIZE)\n",
        "print_model_data_type_policy(model)\n",
        "\n",
        "# store the initial weights of the model\n",
        "initial_weights = model.get_weights()"
      ],
      "execution_count": 50,
      "outputs": [
        {
          "output_type": "stream",
          "text": [
            "[ 01 ] layer.dtype_policy: <Policy \"float32\">, dtype.name: float32 layer.name: input\n",
            "[ 02 ] layer.dtype_policy: <Policy \"mixed_float16\">, dtype.name: float32 layer.name: block1_conv1\n",
            "[ 03 ] layer.dtype_policy: <Policy \"mixed_float16\">, dtype.name: float32 layer.name: block1_conv2\n",
            "[ 04 ] layer.dtype_policy: <Policy \"mixed_float16\">, dtype.name: float32 layer.name: block1_pool\n",
            "[ 05 ] layer.dtype_policy: <Policy \"mixed_float16\">, dtype.name: float32 layer.name: block2_conv1\n",
            "[ 06 ] layer.dtype_policy: <Policy \"mixed_float16\">, dtype.name: float32 layer.name: block2_conv2\n",
            "[ 07 ] layer.dtype_policy: <Policy \"mixed_float16\">, dtype.name: float32 layer.name: block2_pool\n",
            "[ 08 ] layer.dtype_policy: <Policy \"mixed_float16\">, dtype.name: float32 layer.name: block3_conv1\n",
            "[ 09 ] layer.dtype_policy: <Policy \"mixed_float16\">, dtype.name: float32 layer.name: block3_conv2\n",
            "[ 10 ] layer.dtype_policy: <Policy \"mixed_float16\">, dtype.name: float32 layer.name: block3_conv3\n",
            "[ 11 ] layer.dtype_policy: <Policy \"mixed_float16\">, dtype.name: float32 layer.name: block3_pool\n",
            "[ 12 ] layer.dtype_policy: <Policy \"mixed_float16\">, dtype.name: float32 layer.name: block4_conv1\n",
            "[ 13 ] layer.dtype_policy: <Policy \"mixed_float16\">, dtype.name: float32 layer.name: block4_conv2\n",
            "[ 14 ] layer.dtype_policy: <Policy \"mixed_float16\">, dtype.name: float32 layer.name: block4_conv3\n",
            "[ 15 ] layer.dtype_policy: <Policy \"mixed_float16\">, dtype.name: float32 layer.name: block4_pool\n",
            "[ 16 ] layer.dtype_policy: <Policy \"mixed_float16\">, dtype.name: float32 layer.name: block5_conv1\n",
            "[ 17 ] layer.dtype_policy: <Policy \"mixed_float16\">, dtype.name: float32 layer.name: block5_conv2\n",
            "[ 18 ] layer.dtype_policy: <Policy \"mixed_float16\">, dtype.name: float32 layer.name: block5_conv3\n",
            "[ 19 ] layer.dtype_policy: <Policy \"mixed_float16\">, dtype.name: float32 layer.name: block5_pool\n",
            "[ 20 ] layer.dtype_policy: <Policy \"mixed_float16\">, dtype.name: float32 layer.name: global_average_pooling2d_2\n",
            "[ 21 ] layer.dtype_policy: <Policy \"mixed_float16\">, dtype.name: float32 layer.name: logits\n",
            "[ 22 ] layer.dtype_policy: <Policy \"float32\">, dtype.name: float32 layer.name: predictions\n"
          ],
          "name": "stdout"
        }
      ]
    },
    {
      "cell_type": "code",
      "metadata": {
        "id": "vrdomAg_iOaW"
      },
      "source": [
        "# compile model \n",
        "model.compile(\n",
        "    loss=\"categorical_crossentropy\",\n",
        "    optimizer='adam',\n",
        "    metrics=[\"accuracy\"]\n",
        ")"
      ],
      "execution_count": 9,
      "outputs": []
    },
    {
      "cell_type": "code",
      "metadata": {
        "id": "5XDO6fF7mG7r"
      },
      "source": [
        "# number of times the model will training\n",
        "epochs = 3\n",
        "\n",
        "# calculate trian and validation steps per epochs \n",
        "steps_per_epoch = train_generator.samples // train_generator.batch_size\n",
        "validation_steps = valid_generator.samples // valid_generator.batch_size"
      ],
      "execution_count": 10,
      "outputs": []
    },
    {
      "cell_type": "code",
      "metadata": {
        "colab": {
          "base_uri": "https://localhost:8080/"
        },
        "id": "3Cj0wGc3EgeG",
        "outputId": "3863671d-a5b7-45f2-8747-fc2e9918a4b4"
      },
      "source": [
        "%time\n",
        "history = model.fit(\n",
        "    train_generator,\n",
        "    epochs=epochs,\n",
        "    steps_per_epoch=steps_per_epoch,\n",
        "    validation_data=valid_generator,\n",
        "    validation_steps=validation_steps\n",
        ")"
      ],
      "execution_count": 11,
      "outputs": [
        {
          "output_type": "stream",
          "text": [
            "CPU times: user 2 µs, sys: 0 ns, total: 2 µs\n",
            "Wall time: 6.2 µs\n",
            "Epoch 1/3\n",
            "22/22 [==============================] - 78s 2s/step - loss: 33.9967 - accuracy: 0.2050 - val_loss: 1.6103 - val_accuracy: 0.1859\n",
            "Epoch 2/3\n",
            "22/22 [==============================] - 24s 1s/step - loss: 1.6093 - accuracy: 0.2152 - val_loss: 1.6093 - val_accuracy: 0.2844\n",
            "Epoch 3/3\n",
            "22/22 [==============================] - 24s 1s/step - loss: 1.6081 - accuracy: 0.2294 - val_loss: 1.6077 - val_accuracy: 0.2797\n"
          ],
          "name": "stdout"
        }
      ]
    },
    {
      "cell_type": "code",
      "metadata": {
        "id": "8nGxH5qVmLUD"
      },
      "source": [
        "# clear previous session\n",
        "keras.backend.clear_session()"
      ],
      "execution_count": 44,
      "outputs": []
    },
    {
      "cell_type": "code",
      "metadata": {
        "colab": {
          "base_uri": "https://localhost:8080/"
        },
        "id": "MyMBO2_GD6fS",
        "outputId": "3569dbfd-b9c9-40a6-deab-94eb5af8c078"
      },
      "source": [
        "# Enable XLA\n",
        "tf.config.optimizer.set_jit(True)\n",
        "\n",
        "# Enable AMP\n",
        "keras.mixed_precision.set_global_policy('mixed_float16')"
      ],
      "execution_count": 13,
      "outputs": [
        {
          "output_type": "stream",
          "text": [
            "INFO:tensorflow:Mixed precision compatibility check (mixed_float16): OK\n",
            "Your GPU will likely run quickly with dtype policy mixed_float16 as it has compute capability of at least 7.0. Your GPU: Tesla T4, compute capability 7.5\n"
          ],
          "name": "stdout"
        }
      ]
    },
    {
      "cell_type": "code",
      "metadata": {
        "colab": {
          "base_uri": "https://localhost:8080/"
        },
        "id": "Y0eAOc_wL4TC",
        "outputId": "0e0fe70e-4c9e-4104-cd29-ea55283857fb"
      },
      "source": [
        "model = create_model(img_size=IMAGE_SIZE)\n",
        "print_model_data_type_policy(model)\n",
        "\n",
        "# init model with initial weights\n",
        "model.set_weights(initial_weights)"
      ],
      "execution_count": 51,
      "outputs": [
        {
          "output_type": "stream",
          "text": [
            "[ 01 ] layer.dtype_policy: <Policy \"float32\">, dtype.name: float32 layer.name: input\n",
            "[ 02 ] layer.dtype_policy: <Policy \"mixed_float16\">, dtype.name: float32 layer.name: block1_conv1\n",
            "[ 03 ] layer.dtype_policy: <Policy \"mixed_float16\">, dtype.name: float32 layer.name: block1_conv2\n",
            "[ 04 ] layer.dtype_policy: <Policy \"mixed_float16\">, dtype.name: float32 layer.name: block1_pool\n",
            "[ 05 ] layer.dtype_policy: <Policy \"mixed_float16\">, dtype.name: float32 layer.name: block2_conv1\n",
            "[ 06 ] layer.dtype_policy: <Policy \"mixed_float16\">, dtype.name: float32 layer.name: block2_conv2\n",
            "[ 07 ] layer.dtype_policy: <Policy \"mixed_float16\">, dtype.name: float32 layer.name: block2_pool\n",
            "[ 08 ] layer.dtype_policy: <Policy \"mixed_float16\">, dtype.name: float32 layer.name: block3_conv1\n",
            "[ 09 ] layer.dtype_policy: <Policy \"mixed_float16\">, dtype.name: float32 layer.name: block3_conv2\n",
            "[ 10 ] layer.dtype_policy: <Policy \"mixed_float16\">, dtype.name: float32 layer.name: block3_conv3\n",
            "[ 11 ] layer.dtype_policy: <Policy \"mixed_float16\">, dtype.name: float32 layer.name: block3_pool\n",
            "[ 12 ] layer.dtype_policy: <Policy \"mixed_float16\">, dtype.name: float32 layer.name: block4_conv1\n",
            "[ 13 ] layer.dtype_policy: <Policy \"mixed_float16\">, dtype.name: float32 layer.name: block4_conv2\n",
            "[ 14 ] layer.dtype_policy: <Policy \"mixed_float16\">, dtype.name: float32 layer.name: block4_conv3\n",
            "[ 15 ] layer.dtype_policy: <Policy \"mixed_float16\">, dtype.name: float32 layer.name: block4_pool\n",
            "[ 16 ] layer.dtype_policy: <Policy \"mixed_float16\">, dtype.name: float32 layer.name: block5_conv1\n",
            "[ 17 ] layer.dtype_policy: <Policy \"mixed_float16\">, dtype.name: float32 layer.name: block5_conv2\n",
            "[ 18 ] layer.dtype_policy: <Policy \"mixed_float16\">, dtype.name: float32 layer.name: block5_conv3\n",
            "[ 19 ] layer.dtype_policy: <Policy \"mixed_float16\">, dtype.name: float32 layer.name: block5_pool\n",
            "[ 20 ] layer.dtype_policy: <Policy \"mixed_float16\">, dtype.name: float32 layer.name: global_average_pooling2d_3\n",
            "[ 21 ] layer.dtype_policy: <Policy \"mixed_float16\">, dtype.name: float32 layer.name: logits\n",
            "[ 22 ] layer.dtype_policy: <Policy \"float32\">, dtype.name: float32 layer.name: predictions\n"
          ],
          "name": "stdout"
        }
      ]
    },
    {
      "cell_type": "code",
      "metadata": {
        "id": "ZyD7l3yNjHss"
      },
      "source": [
        "model.compile(\n",
        "    loss=\"categorical_crossentropy\",\n",
        "    optimizer='adam',\n",
        "    metrics=[\"accuracy\"]\n",
        ")"
      ],
      "execution_count": 15,
      "outputs": []
    },
    {
      "cell_type": "code",
      "metadata": {
        "colab": {
          "base_uri": "https://localhost:8080/"
        },
        "id": "bl1lNMmTEByp",
        "outputId": "2c9d9716-dfc3-4e17-8fa0-922ab618efd8"
      },
      "source": [
        "%time\n",
        "history = model.fit(\n",
        "    train_generator,\n",
        "    epochs=epochs,\n",
        "    steps_per_epoch=steps_per_epoch,\n",
        "    validation_data=valid_generator,\n",
        "    validation_steps=validation_steps\n",
        ")"
      ],
      "execution_count": 16,
      "outputs": [
        {
          "output_type": "stream",
          "text": [
            "CPU times: user 3 µs, sys: 0 ns, total: 3 µs\n",
            "Wall time: 7.63 µs\n",
            "Epoch 1/3\n",
            "22/22 [==============================] - 92s 2s/step - loss: 2.8636 - accuracy: 0.1916 - val_loss: 1.6322 - val_accuracy: 0.1063\n",
            "Epoch 2/3\n",
            "22/22 [==============================] - 56s 3s/step - loss: 1.6128 - accuracy: 0.2107 - val_loss: 1.6236 - val_accuracy: 0.1063\n",
            "Epoch 3/3\n",
            "22/22 [==============================] - 21s 959ms/step - loss: 1.5353 - accuracy: 0.2695 - val_loss: 1.3104 - val_accuracy: 0.3484\n"
          ],
          "name": "stdout"
        }
      ]
    },
    {
      "cell_type": "markdown",
      "metadata": {
        "id": "gJfwHkwBPj18"
      },
      "source": [
        "## Resources\n",
        "- [Accelerated Linear Algebra (XLA)](https://www.tensorflow.org/xla)\n",
        "- [Mixed precision in tensorflow](https://www.tensorflow.org/guide/mixed_precision)\n",
        "- [Mixed precision training](https://github.com/sayakpaul/Mixed-Precision-Training-in-tf.keras-2.0)\n",
        "- [Just in time compilation (JIT)](https://en.wikipedia.org/wiki/Just-in-time_compilation)"
      ]
    }
  ]
}